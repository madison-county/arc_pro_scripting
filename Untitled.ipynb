{
 "cells": [
  {
   "cell_type": "code",
   "execution_count": 1,
   "id": "8f334511",
   "metadata": {},
   "outputs": [
    {
     "ename": "ModuleNotFoundError",
     "evalue": "No module named 'arcpy'",
     "output_type": "error",
     "traceback": [
      "\u001b[1;31m---------------------------------------------------------------------------\u001b[0m",
      "\u001b[1;31mModuleNotFoundError\u001b[0m                       Traceback (most recent call last)",
      "Input \u001b[1;32mIn [1]\u001b[0m, in \u001b[0;36m<cell line: 2>\u001b[1;34m()\u001b[0m\n\u001b[0;32m      1\u001b[0m \u001b[38;5;66;03m# https://geospatialtraining.com/create-a-script-tool-in-arcgis-pro-from-a-python-script/\u001b[39;00m\n\u001b[1;32m----> 2\u001b[0m \u001b[38;5;28;01mimport\u001b[39;00m \u001b[38;5;21;01marcpy\u001b[39;00m\n\u001b[0;32m      4\u001b[0m \u001b[38;5;66;03m# Create a Describe object from the feature class\u001b[39;00m\n\u001b[0;32m      5\u001b[0m desc \u001b[38;5;241m=\u001b[39m arcpy\u001b[38;5;241m.\u001b[39mDescribe(\u001b[38;5;124mr\u001b[39m\u001b[38;5;124m\"\u001b[39m\u001b[38;5;124m../../geoPandas/datasets/partial_roads_test_shp/partial_road_centerlines_test.shp\u001b[39m\u001b[38;5;124m\"\u001b[39m)\n",
      "\u001b[1;31mModuleNotFoundError\u001b[0m: No module named 'arcpy'"
     ]
    }
   ],
   "source": [
    "# https://geospatialtraining.com/create-a-script-tool-in-arcgis-pro-from-a-python-script/\n",
    "import arcpy\n",
    "\n",
    "# Create a Describe object from the feature class\n",
    "desc = arcpy.Describe(r\"../../geoPandas/datasets/partial_roads_test_shp/partial_road_centerlines_test.shp\")\n",
    "\n",
    "print(\"%-22s %s %s\" % (\"Feature type\", \":\", str(desc.featureType)))"
   ]
  },
  {
   "cell_type": "code",
   "execution_count": null,
   "id": "3bcc5b8f",
   "metadata": {},
   "outputs": [],
   "source": []
  }
 ],
 "metadata": {
  "kernelspec": {
   "display_name": "Python 3 (ipykernel)",
   "language": "python",
   "name": "python3"
  },
  "language_info": {
   "codemirror_mode": {
    "name": "ipython",
    "version": 3
   },
   "file_extension": ".py",
   "mimetype": "text/x-python",
   "name": "python",
   "nbconvert_exporter": "python",
   "pygments_lexer": "ipython3",
   "version": "3.8.13"
  }
 },
 "nbformat": 4,
 "nbformat_minor": 5
}
